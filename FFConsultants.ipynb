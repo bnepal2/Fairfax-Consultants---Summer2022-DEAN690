{
 "cells": [
  {
   "cell_type": "code",
   "execution_count": null,
   "id": "5458c24c",
   "metadata": {},
   "outputs": [],
   "source": [
    "print(\"Hello Fairfax Consultants, Welcome Aboard\")"
   ]
  },
  {
   "cell_type": "code",
   "execution_count": null,
   "id": "8dcecdf4",
   "metadata": {},
   "outputs": [],
   "source": [
    "#Import libraries\n",
    "\n",
    "import pandas as pd\n",
    "import numpy as np"
   ]
  },
  {
   "cell_type": "code",
   "execution_count": null,
   "id": "0b2466e8",
   "metadata": {},
   "outputs": [],
   "source": [
    "#Import all sheet by index\n",
    "df = pd.read_excel(\"E:\\DAEN_690\\Data\\RawData_GMU_Summer2022.xlsx\", sheet_name = None)#[0,1,2,3])\n",
    "#pd.ExcelFile()\n",
    "print(df)"
   ]
  },
  {
   "cell_type": "code",
   "execution_count": null,
   "id": "0fe32547",
   "metadata": {},
   "outputs": [],
   "source": [
    "#Imported as Dictionary, view keys or values\n",
    "print(df.keys())\n",
    "print(df.values())\n",
    "print(df['Patient Demographics']) #view "
   ]
  },
  {
   "cell_type": "code",
   "execution_count": null,
   "id": "9060f0c1",
   "metadata": {},
   "outputs": [],
   "source": [
    "#convert Dicationary to Data Frames\n",
    "PatDemo = pd.DataFrame(df['Patient Demographics'])\n",
    "SEPSIS = pd.DataFrame(df['sepsis'])\n",
    "STEMI = pd.DataFrame(df['STEMI'])\n",
    "STROKE = pd.DataFrame(df['stroke'])\n",
    "\n",
    "#View Headings\n",
    "print(\"\\n PatDemo:\\n\",PatDemo.head(1))\n",
    "print(\"\\n SEPSIS:\\n\",SEPSIS.head(1))\n",
    "print(\"\\n STEMI:\\n\",STEMI.head(1))\n",
    "print(\"\\n STROKE:\\n\",STROKE.head(1))"
   ]
  },
  {
   "cell_type": "code",
   "execution_count": null,
   "id": "c7b1cd05",
   "metadata": {
    "scrolled": true
   },
   "outputs": [],
   "source": [
    "#View Columns for each data frame\n",
    "\n",
    "print(\"\\n PatDemo:\\n\",PatDemo.columns)\n",
    "print(\"\\n SEPSIS:\\n\",SEPSIS.columns )\n",
    "print(\"\\n STEMI:\\n\",STEMI.columns )\n",
    "print(\"\\n STROKE:\\n\",STROKE.columns)"
   ]
  },
  {
   "cell_type": "code",
   "execution_count": null,
   "id": "2d2e40a4",
   "metadata": {},
   "outputs": [],
   "source": [
    "#rename patient demographic column 'Patient_ID_Internal' to 'PtIDInternal'\n",
    "PatDemo.rename(columns = {'Patient_ID_Internal':'PtIDInternal'}, inplace = True)"
   ]
  },
  {
   "cell_type": "code",
   "execution_count": null,
   "id": "85efec98",
   "metadata": {
    "scrolled": true
   },
   "outputs": [],
   "source": [
    "# merging the files how='inner' by default.\n",
    "PdmSEPSIS = pd.merge(PatDemo,SEPSIS, on='PtIDInternal') \n",
    "PdmSEPSIS                       "
   ]
  },
  {
   "cell_type": "code",
   "execution_count": null,
   "id": "a1ee7348",
   "metadata": {
    "scrolled": true
   },
   "outputs": [],
   "source": [
    "# merging the files how='inner' by default.\n",
    "PdmSTEMI = pd.merge(PatDemo,STEMI, on='PtIDInternal') \n",
    "PdmSTEMI"
   ]
  },
  {
   "cell_type": "code",
   "execution_count": null,
   "id": "51c1a6f3",
   "metadata": {
    "scrolled": true
   },
   "outputs": [],
   "source": [
    "# merging the files how='inner' by default.\n",
    "PdmSTROKE = pd.merge(PatDemo,STROKE, on='PtIDInternal') \n",
    "PdmSTROKE "
   ]
  },
  {
   "cell_type": "code",
   "execution_count": null,
   "id": "96f6b412",
   "metadata": {},
   "outputs": [],
   "source": [
    "# merging the files how='inner' by default.\n",
    "#PdmMerged = pd.merge(PatDemo,SEPSIS,STEMI,STROKE, on='PtIDInternal') \n",
    "PdmMerged = PatDemo.merge(SEPSIS, on='PtIDInternal').merge(STEMI,on='PtIDInternal').merge(STROKE,on='PtIDInternal')\n",
    "PdmMerged "
   ]
  },
  {
   "cell_type": "code",
   "execution_count": null,
   "id": "c2fd9dce",
   "metadata": {},
   "outputs": [],
   "source": [
    "df4 = pd.merge(pd.merge(PatDemo,SEPSIS,on='PtIDInternal'),pd.merge(STEMI,STROKE,on='PtIDInternal'))\n",
    "print(df4)"
   ]
  },
  {
   "cell_type": "code",
   "execution_count": null,
   "id": "0e63ffc6",
   "metadata": {},
   "outputs": [],
   "source": []
  },
  {
   "cell_type": "code",
   "execution_count": null,
   "id": "a63a4a05",
   "metadata": {},
   "outputs": [],
   "source": []
  }
 ],
 "metadata": {
  "kernelspec": {
   "display_name": "Python 3 (ipykernel)",
   "language": "python",
   "name": "python3"
  },
  "language_info": {
   "codemirror_mode": {
    "name": "ipython",
    "version": 3
   },
   "file_extension": ".py",
   "mimetype": "text/x-python",
   "name": "python",
   "nbconvert_exporter": "python",
   "pygments_lexer": "ipython3",
   "version": "3.8.11"
  }
 },
 "nbformat": 4,
 "nbformat_minor": 5
}
